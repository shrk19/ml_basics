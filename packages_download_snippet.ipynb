{
 "cells": [
  {
   "cell_type": "code",
   "execution_count": null,
   "id": "f8f4dc3f",
   "metadata": {},
   "outputs": [],
   "source": [
    "# download\n",
    "import sys\n",
    "!{sys.executable} -m pip install regex"
   ]
  },
  {
   "cell_type": "code",
   "execution_count": null,
   "id": "9767634f",
   "metadata": {},
   "outputs": [],
   "source": [
    "# uninstall \n",
    "!pip uninstall --yes regex"
   ]
  },
  {
   "cell_type": "code",
   "execution_count": null,
   "id": "955cf4ce",
   "metadata": {},
   "outputs": [],
   "source": [
    "# install a particular version \n",
    "import sys\n",
    "!{sys.executable} -m pip install numpy==1.20"
   ]
  },
  {
   "cell_type": "code",
   "execution_count": null,
   "id": "0fec02bb",
   "metadata": {},
   "outputs": [],
   "source": [
    "# get list of packages installed with pip\n",
    "!pip list"
   ]
  },
  {
   "cell_type": "code",
   "execution_count": null,
   "id": "7df1cd5c",
   "metadata": {},
   "outputs": [],
   "source": [
    "# get version \n",
    "from importlib_metadata import version\n",
    "print(version('numpy'))"
   ]
  },
  {
   "cell_type": "code",
   "execution_count": null,
   "id": "8cd14633",
   "metadata": {},
   "outputs": [],
   "source": [
    "# get python version\n",
    "from platform import python_version\n",
    "print(python_version())"
   ]
  }
 ],
 "metadata": {
  "kernelspec": {
   "display_name": "Python 3",
   "language": "python",
   "name": "python3"
  },
  "language_info": {
   "codemirror_mode": {
    "name": "ipython",
    "version": 3
   },
   "file_extension": ".py",
   "mimetype": "text/x-python",
   "name": "python",
   "nbconvert_exporter": "python",
   "pygments_lexer": "ipython3",
   "version": "3.8.11"
  }
 },
 "nbformat": 4,
 "nbformat_minor": 5
}
